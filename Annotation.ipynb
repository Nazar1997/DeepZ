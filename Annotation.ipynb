{
 "cells": [
  {
   "cell_type": "code",
   "execution_count": null,
   "metadata": {},
   "outputs": [],
   "source": [
    "import pandas as pd\n",
    "import numpy as np\n",
    "import scipy\n",
    "from tqdm import tqdm_notebook, tqdm, trange\n",
    "import sys\n",
    "import os\n",
    "import seaborn as sns\n",
    "from matplotlib import pyplot as plt\n",
    "from joblib import Parallel, delayed, dump, load\n",
    "from Sparse_vector.sparse_vector import SparseVector\n",
    "from matplotlib import pyplot as plt\n",
    "import warnings\n",
    "warnings.filterwarnings(\"ignore\")"
   ]
  },
  {
   "cell_type": "code",
   "execution_count": null,
   "metadata": {},
   "outputs": [],
   "source": [
    "chroms = [f'chr{i}' for i in list(range(1, 23)) + ['X', 'Y','M']]"
   ]
  },
  {
   "cell_type": "code",
   "execution_count": null,
   "metadata": {},
   "outputs": [],
   "source": [
    "%%time\n",
    "files = {chrom:[] for chrom in chroms}\n",
    "\n",
    "for file in sorted(os.listdir('annotation/DeepZ')):\n",
    "    if file.startswith('.'):\n",
    "        continue\n",
    "    files[file.split('_')[0]].append(np.load(f'annotation/DeepZ/{file}'))\n",
    "    \n",
    "DeepZ = {chrom:np.concatenate(files[chrom]) for chrom in chroms}\n"
   ]
  },
  {
   "cell_type": "code",
   "execution_count": null,
   "metadata": {},
   "outputs": [],
   "source": [
    "zdna_df = pd.read_csv('annotation/ZDNA.bed', sep='\\t', header=None)\n",
    "zhunt_df = pd.read_csv('annotation/zhunt.bed', sep='\\t', header=None)"
   ]
  },
  {
   "cell_type": "code",
   "execution_count": null,
   "metadata": {},
   "outputs": [],
   "source": [
    "ZDNA = {}\n",
    "ZHUNT = {}\n",
    "\n",
    "\n",
    "\n",
    "for chrom in tqdm_notebook(chroms):\n",
    "    zdna = np.zeros_like(DeepZ[chrom]).astype(int)\n",
    "    zhunt = np.zeros_like(DeepZ[chrom]).astype(int)\n",
    "    \n",
    "    for inter in zdna_df[zdna_df[0] == chrom].values:\n",
    "        zdna[inter[1]:inter[2]+1] = 1\n",
    "        \n",
    "    for inter in zhunt_df[zhunt_df[0] == chrom].values:\n",
    "        zhunt[inter[1]:inter[2]+1] = 1\n",
    "    \n",
    "    ZDNA[chrom] = SparseVector(zdna)\n",
    "    ZHUNT[chrom] = SparseVector(zhunt)"
   ]
  },
  {
   "cell_type": "code",
   "execution_count": null,
   "metadata": {},
   "outputs": [],
   "source": [
    "genes = zdna_df.values"
   ]
  },
  {
   "cell_type": "code",
   "execution_count": null,
   "metadata": {},
   "outputs": [],
   "source": [
    "genes[:, 1] = (genes[:, 1] // 5000) * 5000\n",
    "genes[:, 2] = genes[:, 1] + 5000"
   ]
  },
  {
   "cell_type": "code",
   "execution_count": null,
   "metadata": {
    "scrolled": false
   },
   "outputs": [],
   "source": [
    "for inter, i in zip(tqdm_notebook(set([tuple(inter) for inter in genes if inter[0] in chroms])), range(400)):\n",
    "    plt.figure(figsize=(15, 5))\n",
    "    plt.plot(np.arange(inter[1], inter[2]),\n",
    "             DeepZ[inter[0]][inter[1]: inter[2]], \n",
    "             label='DeepZ')\n",
    "    \n",
    "    plt.plot([inter[1], inter[2]], [0.343, 0.343], '--',\n",
    "             label='DeepZ \\nthreshold', alpha=0.5, color='b')\n",
    "    \n",
    "    plt.fill_between(np.arange(inter[1], inter[2]),\n",
    "                     0,\n",
    "                 ZHUNT[inter[0]][inter[1]:inter[2]],\n",
    "                 label='Z-HUNT', color='C03', alpha=.35,)\n",
    "    \n",
    "    plt.fill_between(np.arange(inter[1], inter[2]),\n",
    "                 0,\n",
    "                 ZDNA[inter[0]][inter[1]:inter[2]],\n",
    "                 label='Z-DNA', color='C02', alpha=.35,)  \n",
    "\n",
    "    plt.xticks(np.arange(inter[1], inter[2]+1, 1000), \n",
    "               np.arange(inter[1], inter[2]+1, 1000))\n",
    "    \n",
    "    \n",
    "    \n",
    "    plt.xlabel(inter[0] + \"+\")\n",
    "    plt.ylabel('Probability')\n",
    "    plt.yticks(np.linspace(0, 1, 11))\n",
    "    plt.xlim((inter[1], inter[2]))\n",
    "    plt.ylim((0, 1))\n",
    "    plt.grid()\n",
    "    plt.legend()    \n",
    "    plt.savefig(f'images/{inter[0]}_{inter[1]}-{inter[2]}.pdf', bbox_inches='tight', pad_inches=0)\n",
    "    plt.show()\n",
    "#     break"
   ]
  },
  {
   "cell_type": "code",
   "execution_count": null,
   "metadata": {},
   "outputs": [],
   "source": []
  },
  {
   "cell_type": "code",
   "execution_count": null,
   "metadata": {},
   "outputs": [],
   "source": []
  },
  {
   "cell_type": "code",
   "execution_count": null,
   "metadata": {},
   "outputs": [],
   "source": []
  },
  {
   "cell_type": "code",
   "execution_count": null,
   "metadata": {},
   "outputs": [],
   "source": []
  },
  {
   "cell_type": "code",
   "execution_count": null,
   "metadata": {},
   "outputs": [],
   "source": []
  },
  {
   "cell_type": "code",
   "execution_count": null,
   "metadata": {},
   "outputs": [],
   "source": []
  },
  {
   "cell_type": "code",
   "execution_count": null,
   "metadata": {},
   "outputs": [],
   "source": []
  },
  {
   "cell_type": "code",
   "execution_count": null,
   "metadata": {},
   "outputs": [],
   "source": []
  },
  {
   "cell_type": "code",
   "execution_count": null,
   "metadata": {},
   "outputs": [],
   "source": []
  },
  {
   "cell_type": "code",
   "execution_count": null,
   "metadata": {},
   "outputs": [],
   "source": []
  },
  {
   "cell_type": "code",
   "execution_count": null,
   "metadata": {},
   "outputs": [],
   "source": []
  },
  {
   "cell_type": "code",
   "execution_count": null,
   "metadata": {},
   "outputs": [],
   "source": []
  },
  {
   "cell_type": "code",
   "execution_count": null,
   "metadata": {},
   "outputs": [],
   "source": []
  },
  {
   "cell_type": "code",
   "execution_count": null,
   "metadata": {},
   "outputs": [],
   "source": []
  },
  {
   "cell_type": "code",
   "execution_count": null,
   "metadata": {},
   "outputs": [],
   "source": []
  }
 ],
 "metadata": {
  "kernelspec": {
   "display_name": "Python 3",
   "language": "python",
   "name": "python3"
  },
  "language_info": {
   "codemirror_mode": {
    "name": "ipython",
    "version": 3
   },
   "file_extension": ".py",
   "mimetype": "text/x-python",
   "name": "python",
   "nbconvert_exporter": "python",
   "pygments_lexer": "ipython3",
   "version": "3.7.4"
  }
 },
 "nbformat": 4,
 "nbformat_minor": 2
}
